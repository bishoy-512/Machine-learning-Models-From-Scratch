{
 "cells": [
  {
   "cell_type": "code",
   "execution_count": 1,
   "id": "582ee341",
   "metadata": {},
   "outputs": [],
   "source": [
    "import numpy as np\n",
    "from collections import Counter"
   ]
  },
  {
   "cell_type": "code",
   "execution_count": null,
   "id": "f33405d8",
   "metadata": {},
   "outputs": [],
   "source": [
    "def ecludian(x1 , x2):\n",
    "    return np.sqrt(np.sum((x1-x2)**2))"
   ]
  },
  {
   "cell_type": "code",
   "execution_count": null,
   "id": "3bcd59da",
   "metadata": {},
   "outputs": [],
   "source": [
    "class KNN:\n",
    "\n",
    "    def __init__(self,k=3):\n",
    "        self.k = k\n",
    "\n",
    "    def fit (self , x , y):\n",
    "        self.X_train = x\n",
    "        self.y_train = y\n",
    "    def predict(self , X_test):\n",
    "        result = [self._predict(x) for x in X_test]\n",
    "        return np.array(result)\n",
    "\n",
    "    def _predict(self , x): \n",
    "        distance = [ecludian(x,X) for X in self.X_train] # calculate distance between 1 point to all points\n",
    "        distance_sorted = np.argsort(distance)[:self.k] # get the nearest K distance\n",
    "        label = [self.y_train[i] for i in distance_sorted] # get labels from y_train\n",
    "        common = Counter(label).most_common(1) # First most common element => [('1' , 2)]\n",
    "        return common[0][0]\n",
    "    "
   ]
  },
  {
   "cell_type": "code",
   "execution_count": 11,
   "id": "d6df2ba2",
   "metadata": {},
   "outputs": [],
   "source": [
    "from sklearn.datasets import load_digits\n",
    "iris = load_digits()"
   ]
  },
  {
   "cell_type": "code",
   "execution_count": 18,
   "id": "b402dd70",
   "metadata": {},
   "outputs": [],
   "source": [
    "X,y = iris.data , iris.target"
   ]
  },
  {
   "cell_type": "code",
   "execution_count": 19,
   "id": "b6089022",
   "metadata": {},
   "outputs": [],
   "source": [
    "from sklearn.model_selection import train_test_split\n",
    "X_train , X_test , y_train , y_test = train_test_split(X,y,test_size=0.2,random_state=42)"
   ]
  },
  {
   "cell_type": "code",
   "execution_count": null,
   "id": "f0c0b389",
   "metadata": {},
   "outputs": [],
   "source": [
    "model = KNN(k = 3)\n",
    "model.fit(X_train,y_train)"
   ]
  },
  {
   "cell_type": "code",
   "execution_count": 21,
   "id": "01d58129",
   "metadata": {},
   "outputs": [],
   "source": [
    "y_pred = model.predict(X_test)"
   ]
  },
  {
   "cell_type": "code",
   "execution_count": 22,
   "id": "60783cc8",
   "metadata": {},
   "outputs": [],
   "source": [
    "acc = np.sum(y_pred==y_test)/len(y_test)"
   ]
  },
  {
   "cell_type": "code",
   "execution_count": 23,
   "id": "e5be5738",
   "metadata": {},
   "outputs": [
    {
     "data": {
      "text/plain": [
       "np.float64(98.05555555555556)"
      ]
     },
     "execution_count": 23,
     "metadata": {},
     "output_type": "execute_result"
    }
   ],
   "source": [
    "acc*100"
   ]
  },
  {
   "cell_type": "code",
   "execution_count": null,
   "id": "1438789b",
   "metadata": {},
   "outputs": [],
   "source": []
  }
 ],
 "metadata": {
  "kernelspec": {
   "display_name": "Python 3.13 (xgboost)",
   "language": "python",
   "name": "py313"
  },
  "language_info": {
   "codemirror_mode": {
    "name": "ipython",
    "version": 3
   },
   "file_extension": ".py",
   "mimetype": "text/x-python",
   "name": "python",
   "nbconvert_exporter": "python",
   "pygments_lexer": "ipython3",
   "version": "3.13.3"
  }
 },
 "nbformat": 4,
 "nbformat_minor": 5
}
